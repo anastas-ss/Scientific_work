{
 "cells": [
  {
   "cell_type": "code",
   "execution_count": 1,
   "metadata": {},
   "outputs": [],
   "source": [
    "import sympy as sp\n",
    "import numpy as np\n",
    "from sympy import Abs\n",
    "from sympy import I \n",
    "import matplotlib.pyplot as plt\n"
   ]
  },
  {
   "cell_type": "code",
   "execution_count": 14,
   "metadata": {},
   "outputs": [
    {
     "name": "stdout",
     "output_type": "stream",
     "text": [
      "Последний многочлен системы Штурма:\n",
      "-b**3*(b**2 + 114*b + 129)**2*(b**3 + 9*b**2 + 54*b + 27)/(676*(b**6 + 9*b**5 + 54*b**4 + 51*b**3 + 48*b**2 - 72*b - 81)**2)\n"
     ]
    }
   ],
   "source": [
    "b, p3 = sp.symbols('b p3')\n",
    "s = 0\n",
    "b_values = np.arange(-5, 8, 0.05)\n",
    "polynom = -13*p3**4 + (30 + 6*b)*p3**3 - (21 + 6*b + b**2 + 3*s)*p3**2 + (4 + b*s + 3*s)*p3 - s**2/4\n",
    "sturm_sequence = sp.polys.polytools.sturm(polynom, p3)\n",
    "\n",
    "print(\"Последний многочлен системы Штурма:\")\n",
    "\n",
    "equation1 = sturm_sequence[-1].factor()\n",
    "print(equation1)"
   ]
  },
  {
   "cell_type": "code",
   "execution_count": 19,
   "metadata": {},
   "outputs": [
    {
     "name": "stdout",
     "output_type": "stream",
     "text": [
      "[0, -57 - 4*sqrt(195), -57 + 4*sqrt(195), -3 + 3*(-1/2 - sqrt(3)*I/2)*(3/2 + sqrt(13)/2)**(1/3) - 3/((-1/2 - sqrt(3)*I/2)*(3/2 + sqrt(13)/2)**(1/3)), -3 - 3/((-1/2 + sqrt(3)*I/2)*(3/2 + sqrt(13)/2)**(1/3)) + 3*(-1/2 + sqrt(3)*I/2)*(3/2 + sqrt(13)/2)**(1/3), -3 - 3/(3/2 + sqrt(13)/2)**(1/3) + 3*(3/2 + sqrt(13)/2)**(1/3)]\n",
      "[0, -112.856960175076, -1.14303982492424, -0.546804978339529]\n"
     ]
    }
   ],
   "source": [
    "sol = []\n",
    "eps = 10**(-7)\n",
    "\n",
    "\n",
    "solut = sp.solve(equation1, b)\n",
    "print(solut)\n",
    "p = [sol.evalf() for sol in solut]\n",
    "real_solutions_prob = []\n",
    "for sol in p:\n",
    "    if (abs(sol-abs(sol))<eps):\n",
    "        real_solutions_prob.append((abs(sol)))\n",
    "    elif (abs(sol+abs(sol))<eps):\n",
    "        real_solutions_prob.append(-(abs(sol)))\n",
    "    else:\n",
    "        real_solutions_prob.append((sol))\n",
    "\n",
    "real_sol = [sol.evalf() for sol in real_solutions_prob if sol.is_real]\n",
    "\n",
    "print(real_sol)"
   ]
  },
  {
   "cell_type": "code",
   "execution_count": 11,
   "metadata": {},
   "outputs": [],
   "source": [
    "p3 = sp.symbols('p3')\n",
    "s = 0\n",
    "b = 0"
   ]
  },
  {
   "cell_type": "code",
   "execution_count": null,
   "metadata": {},
   "outputs": [],
   "source": []
  },
  {
   "cell_type": "code",
   "execution_count": 12,
   "metadata": {},
   "outputs": [
    {
     "name": "stdout",
     "output_type": "stream",
     "text": [
      "-13*p3**4 + 30*p3**3 - 21*p3**2 + 4*p3\n"
     ]
    }
   ],
   "source": [
    "polynom = -13*p3**4 + (30 + 6*b)*p3**3 - (21 + 6*b + b**2 + 3*s)*p3**2 + (4 + b*s + 3*s)*p3 - s**2/4\n",
    "print(polynom)"
   ]
  },
  {
   "cell_type": "code",
   "execution_count": 13,
   "metadata": {},
   "outputs": [
    {
     "name": "stdout",
     "output_type": "stream",
     "text": [
      "[0, 0.307692307692308, 1.00000000000000]\n",
      "[0, 0.307692307692308, 1.00000000000000]\n"
     ]
    }
   ],
   "source": [
    "sol_1 = []\n",
    "eps = 10**(-7)\n",
    "\n",
    "solution1 = sp.solve(polynom, p3)\n",
    "p = [sol.evalf() for sol in solution1]\n",
    "print(p)\n",
    "real_solutions_prob = []\n",
    "for sol in p:\n",
    "    if (abs(sol-abs(sol))<eps):\n",
    "        real_solutions_prob.append((abs(sol)))\n",
    "    elif (abs(sol+abs(sol))<eps):\n",
    "        real_solutions_prob.append(-(abs(sol)))\n",
    "    else:\n",
    "        real_solutions_prob.append((sol))\n",
    "    \n",
    "    real_solutions1 = [sol.evalf() for sol in real_solutions_prob if sol.is_real]\n",
    "print(real_solutions1)"
   ]
  }
 ],
 "metadata": {
  "kernelspec": {
   "display_name": "Python 3",
   "language": "python",
   "name": "python3"
  },
  "language_info": {
   "codemirror_mode": {
    "name": "ipython",
    "version": 3
   },
   "file_extension": ".py",
   "mimetype": "text/x-python",
   "name": "python",
   "nbconvert_exporter": "python",
   "pygments_lexer": "ipython3",
   "version": "3.13.0"
  }
 },
 "nbformat": 4,
 "nbformat_minor": 2
}
